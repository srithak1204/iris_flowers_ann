{
  "cells": [
    {
      "cell_type": "code",
      "execution_count": 35,
      "id": "9648d57e",
      "metadata": {
        "id": "9648d57e"
      },
      "outputs": [],
      "source": [
        "import numpy as np\n",
        "import pandas as pd\n",
        "import matplotlib.pyplot as plt\n",
        "\n",
        "import tensorflow as tf\n",
        "from tensorflow import keras\n",
        "import os"
      ]
    },
    {
      "cell_type": "code",
      "execution_count": 36,
      "id": "6253fc7c",
      "metadata": {
        "id": "6253fc7c"
      },
      "outputs": [],
      "source": [
        "from sklearn.model_selection import train_test_split\n",
        "data = pd.read_csv(\"/content/IRIS.csv\",delimiter=\",\")"
      ]
    },
    {
      "cell_type": "code",
      "execution_count": 37,
      "id": "f163d987",
      "metadata": {
        "colab": {
          "base_uri": "https://localhost:8080/"
        },
        "id": "f163d987",
        "outputId": "80e4f77d-6d38-4836-dd40-1f50777a5e7f"
      },
      "outputs": [
        {
          "output_type": "stream",
          "name": "stdout",
          "text": [
            "   sepal_length  sepal_width  petal_length  petal_width      species\n",
            "0           5.1          3.5           1.4          0.2  Iris-setosa\n",
            "1           4.9          3.0           1.4          0.2  Iris-setosa\n",
            "2           4.7          3.2           1.3          0.2  Iris-setosa\n",
            "3           4.6          3.1           1.5          0.2  Iris-setosa\n",
            "4           5.0          3.6           1.4          0.2  Iris-setosa\n"
          ]
        }
      ],
      "source": [
        "print(data.head())"
      ]
    },
    {
      "cell_type": "code",
      "execution_count": 38,
      "id": "3d55266f",
      "metadata": {
        "colab": {
          "base_uri": "https://localhost:8080/"
        },
        "id": "3d55266f",
        "outputId": "9a94f926-38d6-4153-f6bf-65c4226ceec5"
      },
      "outputs": [
        {
          "output_type": "stream",
          "name": "stdout",
          "text": [
            "     sepal_length  sepal_width  petal_length  petal_width         species\n",
            "145           6.7          3.0           5.2          2.3  Iris-virginica\n",
            "146           6.3          2.5           5.0          1.9  Iris-virginica\n",
            "147           6.5          3.0           5.2          2.0  Iris-virginica\n",
            "148           6.2          3.4           5.4          2.3  Iris-virginica\n",
            "149           5.9          3.0           5.1          1.8  Iris-virginica\n"
          ]
        }
      ],
      "source": [
        "print(data.tail())"
      ]
    },
    {
      "cell_type": "code",
      "execution_count": 39,
      "id": "323db819",
      "metadata": {
        "colab": {
          "base_uri": "https://localhost:8080/"
        },
        "id": "323db819",
        "outputId": "7311d64b-c0c8-4ce4-b578-a0e13cbdef39"
      },
      "outputs": [
        {
          "output_type": "stream",
          "name": "stdout",
          "text": [
            "sepal_length    0\n",
            "sepal_width     0\n",
            "petal_length    0\n",
            "petal_width     0\n",
            "species         0\n",
            "dtype: int64\n"
          ]
        }
      ],
      "source": [
        "print(data.isnull().sum())"
      ]
    },
    {
      "cell_type": "code",
      "execution_count": 40,
      "id": "0f9eda80",
      "metadata": {
        "id": "0f9eda80"
      },
      "outputs": [],
      "source": [
        "data.dropna(inplace=True) #for null values"
      ]
    },
    {
      "cell_type": "code",
      "execution_count": 42,
      "id": "dc4bf243",
      "metadata": {
        "colab": {
          "base_uri": "https://localhost:8080/"
        },
        "id": "dc4bf243",
        "outputId": "4d8cb3e7-24f7-4523-8a31-6a22895f6f7d"
      },
      "outputs": [
        {
          "output_type": "stream",
          "name": "stdout",
          "text": [
            "(120, 4)\n"
          ]
        }
      ],
      "source": [
        "X = data.iloc[:, [0,1,2,3]]\n",
        "y = data.iloc[:,4]\n",
        "from sklearn.preprocessing import LabelEncoder\n",
        "le = LabelEncoder()\n",
        "y = pd.DataFrame(le.fit_transform(y))\n",
        "from keras.utils import to_categorical\n",
        "#y_test= to_categorical(y_test, num_classes= 3)\n",
        "y= to_categorical(y, num_classes= 3)\n",
        "X_train, X_test, y_train, y_test = train_test_split(X, y, test_size=0.2, random_state=0)\n",
        "\n",
        "print(X_train.shape)"
      ]
    },
    {
      "cell_type": "code",
      "execution_count": 43,
      "id": "392943f2",
      "metadata": {
        "colab": {
          "base_uri": "https://localhost:8080/"
        },
        "id": "392943f2",
        "outputId": "ad90bb92-b926-4236-f0dd-25bb47de548f"
      },
      "outputs": [
        {
          "output_type": "stream",
          "name": "stdout",
          "text": [
            "[[1. 0. 0.]\n",
            " [1. 0. 0.]\n",
            " [1. 0. 0.]\n",
            " [1. 0. 0.]\n",
            " [1. 0. 0.]\n",
            " [1. 0. 0.]\n",
            " [1. 0. 0.]\n",
            " [1. 0. 0.]\n",
            " [1. 0. 0.]\n",
            " [1. 0. 0.]\n",
            " [1. 0. 0.]\n",
            " [1. 0. 0.]\n",
            " [1. 0. 0.]\n",
            " [1. 0. 0.]\n",
            " [1. 0. 0.]\n",
            " [1. 0. 0.]\n",
            " [1. 0. 0.]\n",
            " [1. 0. 0.]\n",
            " [1. 0. 0.]\n",
            " [1. 0. 0.]\n",
            " [1. 0. 0.]\n",
            " [1. 0. 0.]\n",
            " [1. 0. 0.]\n",
            " [1. 0. 0.]\n",
            " [1. 0. 0.]\n",
            " [1. 0. 0.]\n",
            " [1. 0. 0.]\n",
            " [1. 0. 0.]\n",
            " [1. 0. 0.]\n",
            " [1. 0. 0.]\n",
            " [1. 0. 0.]\n",
            " [1. 0. 0.]\n",
            " [1. 0. 0.]\n",
            " [1. 0. 0.]\n",
            " [1. 0. 0.]\n",
            " [1. 0. 0.]\n",
            " [1. 0. 0.]\n",
            " [1. 0. 0.]\n",
            " [1. 0. 0.]\n",
            " [1. 0. 0.]\n",
            " [1. 0. 0.]\n",
            " [1. 0. 0.]\n",
            " [1. 0. 0.]\n",
            " [1. 0. 0.]\n",
            " [1. 0. 0.]\n",
            " [1. 0. 0.]\n",
            " [1. 0. 0.]\n",
            " [1. 0. 0.]\n",
            " [1. 0. 0.]\n",
            " [1. 0. 0.]\n",
            " [0. 1. 0.]\n",
            " [0. 1. 0.]\n",
            " [0. 1. 0.]\n",
            " [0. 1. 0.]\n",
            " [0. 1. 0.]\n",
            " [0. 1. 0.]\n",
            " [0. 1. 0.]\n",
            " [0. 1. 0.]\n",
            " [0. 1. 0.]\n",
            " [0. 1. 0.]\n",
            " [0. 1. 0.]\n",
            " [0. 1. 0.]\n",
            " [0. 1. 0.]\n",
            " [0. 1. 0.]\n",
            " [0. 1. 0.]\n",
            " [0. 1. 0.]\n",
            " [0. 1. 0.]\n",
            " [0. 1. 0.]\n",
            " [0. 1. 0.]\n",
            " [0. 1. 0.]\n",
            " [0. 1. 0.]\n",
            " [0. 1. 0.]\n",
            " [0. 1. 0.]\n",
            " [0. 1. 0.]\n",
            " [0. 1. 0.]\n",
            " [0. 1. 0.]\n",
            " [0. 1. 0.]\n",
            " [0. 1. 0.]\n",
            " [0. 1. 0.]\n",
            " [0. 1. 0.]\n",
            " [0. 1. 0.]\n",
            " [0. 1. 0.]\n",
            " [0. 1. 0.]\n",
            " [0. 1. 0.]\n",
            " [0. 1. 0.]\n",
            " [0. 1. 0.]\n",
            " [0. 1. 0.]\n",
            " [0. 1. 0.]\n",
            " [0. 1. 0.]\n",
            " [0. 1. 0.]\n",
            " [0. 1. 0.]\n",
            " [0. 1. 0.]\n",
            " [0. 1. 0.]\n",
            " [0. 1. 0.]\n",
            " [0. 1. 0.]\n",
            " [0. 1. 0.]\n",
            " [0. 1. 0.]\n",
            " [0. 1. 0.]\n",
            " [0. 1. 0.]\n",
            " [0. 1. 0.]\n",
            " [0. 0. 1.]\n",
            " [0. 0. 1.]\n",
            " [0. 0. 1.]\n",
            " [0. 0. 1.]\n",
            " [0. 0. 1.]\n",
            " [0. 0. 1.]\n",
            " [0. 0. 1.]\n",
            " [0. 0. 1.]\n",
            " [0. 0. 1.]\n",
            " [0. 0. 1.]\n",
            " [0. 0. 1.]\n",
            " [0. 0. 1.]\n",
            " [0. 0. 1.]\n",
            " [0. 0. 1.]\n",
            " [0. 0. 1.]\n",
            " [0. 0. 1.]\n",
            " [0. 0. 1.]\n",
            " [0. 0. 1.]\n",
            " [0. 0. 1.]\n",
            " [0. 0. 1.]\n",
            " [0. 0. 1.]\n",
            " [0. 0. 1.]\n",
            " [0. 0. 1.]\n",
            " [0. 0. 1.]\n",
            " [0. 0. 1.]\n",
            " [0. 0. 1.]\n",
            " [0. 0. 1.]\n",
            " [0. 0. 1.]\n",
            " [0. 0. 1.]\n",
            " [0. 0. 1.]\n",
            " [0. 0. 1.]\n",
            " [0. 0. 1.]\n",
            " [0. 0. 1.]\n",
            " [0. 0. 1.]\n",
            " [0. 0. 1.]\n",
            " [0. 0. 1.]\n",
            " [0. 0. 1.]\n",
            " [0. 0. 1.]\n",
            " [0. 0. 1.]\n",
            " [0. 0. 1.]\n",
            " [0. 0. 1.]\n",
            " [0. 0. 1.]\n",
            " [0. 0. 1.]\n",
            " [0. 0. 1.]\n",
            " [0. 0. 1.]\n",
            " [0. 0. 1.]\n",
            " [0. 0. 1.]\n",
            " [0. 0. 1.]\n",
            " [0. 0. 1.]\n",
            " [0. 0. 1.]]\n"
          ]
        }
      ],
      "source": [
        "print(y)"
      ]
    },
    {
      "cell_type": "code",
      "execution_count": 44,
      "id": "ee10dce6",
      "metadata": {
        "id": "ee10dce6"
      },
      "outputs": [],
      "source": [
        "model = keras.Sequential([\n",
        "    keras.layers.Dense(78, activation='relu'),\n",
        "    keras.layers.Dense(40, activation='relu'),\n",
        "    keras.layers.Dense(3, activation='sigmoid')\n",
        "])\n"
      ]
    },
    {
      "cell_type": "code",
      "execution_count": 45,
      "id": "fbb7387f",
      "metadata": {
        "colab": {
          "base_uri": "https://localhost:8080/"
        },
        "id": "fbb7387f",
        "outputId": "9b737bcd-1438-4589-e74c-3fb465ba60a3"
      },
      "outputs": [
        {
          "output_type": "stream",
          "name": "stdout",
          "text": [
            "Model: \"sequential_1\"\n",
            "_________________________________________________________________\n",
            " Layer (type)                Output Shape              Param #   \n",
            "=================================================================\n",
            " dense_3 (Dense)             (150, 78)                 390       \n",
            "                                                                 \n",
            " dense_4 (Dense)             (150, 40)                 3160      \n",
            "                                                                 \n",
            " dense_5 (Dense)             (150, 3)                  123       \n",
            "                                                                 \n",
            "=================================================================\n",
            "Total params: 3673 (14.35 KB)\n",
            "Trainable params: 3673 (14.35 KB)\n",
            "Non-trainable params: 0 (0.00 Byte)\n",
            "_________________________________________________________________\n",
            "None\n"
          ]
        }
      ],
      "source": [
        "model.build((150,4))\n",
        "print(model.summary())"
      ]
    },
    {
      "cell_type": "code",
      "execution_count": 46,
      "id": "99196ce3",
      "metadata": {
        "id": "99196ce3",
        "colab": {
          "base_uri": "https://localhost:8080/",
          "height": 422
        },
        "outputId": "1c066787-3e42-474c-a685-e90f757dbaf2"
      },
      "outputs": [
        {
          "output_type": "execute_result",
          "data": {
            "image/png": "[encoded data removed]",
            "text/plain": [
              "<IPython.core.display.Image object>"
            ]
          },
          "metadata": {},
          "execution_count": 46
        }
      ],
      "source": [
        "tf.keras.utils.plot_model(model, to_file='model_plot.png', show_shapes=True, show_layer_names=True)"
      ]
    },
    {
      "cell_type": "code",
      "execution_count": 47,
      "id": "4fff7951",
      "metadata": {
        "id": "4fff7951"
      },
      "outputs": [],
      "source": [
        "model.compile(optimizer='Adam', loss='categorical_crossentropy',\n",
        "              metrics=['Accuracy'])"
      ]
    },
    {
      "cell_type": "code",
      "execution_count": 48,
      "id": "487d14e8",
      "metadata": {
        "colab": {
          "base_uri": "https://localhost:8080/"
        },
        "id": "487d14e8",
        "outputId": "c385626a-a661-4150-e0dc-1fc2e19d81ef"
      },
      "outputs": [
        {
          "output_type": "stream",
          "name": "stdout",
          "text": [
            "Epoch 1/20\n",
            "4/4 [==============================] - 1s 5ms/step - loss: 2.0176 - Accuracy: 0.3083\n",
            "Epoch 2/20\n",
            "4/4 [==============================] - 0s 5ms/step - loss: 1.4918 - Accuracy: 0.3083\n",
            "Epoch 3/20\n",
            "4/4 [==============================] - 0s 6ms/step - loss: 1.1425 - Accuracy: 0.3083\n",
            "Epoch 4/20\n",
            "4/4 [==============================] - 0s 6ms/step - loss: 0.9936 - Accuracy: 0.4750\n",
            "Epoch 5/20\n",
            "4/4 [==============================] - 0s 6ms/step - loss: 0.9424 - Accuracy: 0.6750\n",
            "Epoch 6/20\n",
            "4/4 [==============================] - 0s 5ms/step - loss: 0.9107 - Accuracy: 0.6917\n",
            "Epoch 7/20\n",
            "4/4 [==============================] - 0s 4ms/step - loss: 0.8754 - Accuracy: 0.6917\n",
            "Epoch 8/20\n",
            "4/4 [==============================] - 0s 5ms/step - loss: 0.8329 - Accuracy: 0.6917\n",
            "Epoch 9/20\n",
            "4/4 [==============================] - 0s 5ms/step - loss: 0.7859 - Accuracy: 0.6917\n",
            "Epoch 10/20\n",
            "4/4 [==============================] - 0s 6ms/step - loss: 0.7474 - Accuracy: 0.6917\n",
            "Epoch 11/20\n",
            "4/4 [==============================] - 0s 4ms/step - loss: 0.7076 - Accuracy: 0.6917\n",
            "Epoch 12/20\n",
            "4/4 [==============================] - 0s 6ms/step - loss: 0.6775 - Accuracy: 0.6917\n",
            "Epoch 13/20\n",
            "4/4 [==============================] - 0s 6ms/step - loss: 0.6506 - Accuracy: 0.6917\n",
            "Epoch 14/20\n",
            "4/4 [==============================] - 0s 5ms/step - loss: 0.6249 - Accuracy: 0.7167\n",
            "Epoch 15/20\n",
            "4/4 [==============================] - 0s 5ms/step - loss: 0.6005 - Accuracy: 0.7083\n",
            "Epoch 16/20\n",
            "4/4 [==============================] - 0s 5ms/step - loss: 0.5771 - Accuracy: 0.7083\n",
            "Epoch 17/20\n",
            "4/4 [==============================] - 0s 7ms/step - loss: 0.5555 - Accuracy: 0.7083\n",
            "Epoch 18/20\n",
            "4/4 [==============================] - 0s 6ms/step - loss: 0.5370 - Accuracy: 0.7083\n",
            "Epoch 19/20\n",
            "4/4 [==============================] - 0s 5ms/step - loss: 0.5214 - Accuracy: 0.7083\n",
            "Epoch 20/20\n",
            "4/4 [==============================] - 0s 5ms/step - loss: 0.5045 - Accuracy: 0.7083\n"
          ]
        }
      ],
      "source": [
        "history = model.fit(X_train, y_train, epochs=20)"
      ]
    },
    {
      "cell_type": "code",
      "execution_count": 49,
      "id": "6230c4a5",
      "metadata": {
        "colab": {
          "base_uri": "https://localhost:8080/"
        },
        "id": "6230c4a5",
        "outputId": "d7c1ada6-1f39-4acd-d2c6-e60018b1e91f"
      },
      "outputs": [
        {
          "output_type": "stream",
          "name": "stdout",
          "text": [
            "4/4 [==============================] - 0s 4ms/step - loss: 0.4945 - Accuracy: 0.7167\n",
            "Training Accuracy: 71.67%\n",
            "\n",
            "1/1 [==============================] - 0s 29ms/step - loss: 0.5375 - Accuracy: 0.5667\n",
            "Testing Accuracy: 56.67%\n",
            "\n"
          ]
        }
      ],
      "source": [
        "scores = model.evaluate(X_train,y_train)\n",
        "print(\"Training Accuracy: %.2f%%\\n\" % (scores[1]*100))\n",
        "scores = model.evaluate(X_test,y_test)\n",
        "print(\"Testing Accuracy: %.2f%%\\n\" % (scores[1]*100))"
      ]
    },
    {
      "cell_type": "code",
      "execution_count": 50,
      "id": "d10a33d3",
      "metadata": {
        "colab": {
          "base_uri": "https://localhost:8080/"
        },
        "id": "d10a33d3",
        "outputId": "9373fed5-fe72-4cde-99db-94d4e2f96f55"
      },
      "outputs": [
        {
          "output_type": "stream",
          "name": "stdout",
          "text": [
            "1/1 [==============================] - 0s 65ms/step\n",
            "[[0.10005203 0.5558927  0.7616439 ]\n",
            " [0.20850456 0.48495054 0.51033366]\n",
            " [0.8068252  0.2285263  0.09533717]\n",
            " [0.07902966 0.5711414  0.736904  ]\n",
            " [0.7405025  0.2687765  0.13386825]\n",
            " [0.08234689 0.5682719  0.78397894]\n",
            " [0.7556128  0.25888777 0.1285994 ]\n",
            " [0.17625585 0.49635646 0.53857636]\n",
            " [0.157392   0.5042434  0.5607035 ]\n",
            " [0.22909625 0.47754112 0.48993525]\n",
            " [0.11499436 0.5616615  0.70161283]\n",
            " [0.19952065 0.49114648 0.5220949 ]\n",
            " [0.17948893 0.5070873  0.5558094 ]\n",
            " [0.16301519 0.50698394 0.5708381 ]\n",
            " [0.1719271  0.5103598  0.575915  ]\n",
            " [0.72277474 0.2815944  0.14263   ]\n",
            " [0.17864516 0.5077716  0.5746469 ]\n",
            " [0.19070384 0.5125718  0.5758156 ]\n",
            " [0.699068   0.29108605 0.16182023]\n",
            " [0.77736306 0.24038075 0.11085604]\n",
            " [0.12570779 0.5531694  0.7188104 ]\n",
            " [0.18861176 0.51007366 0.5839357 ]\n",
            " [0.6997026  0.29566106 0.16216381]\n",
            " [0.70005924 0.30040327 0.17145896]\n",
            " [0.13688852 0.532667   0.6544843 ]\n",
            " [0.7849302  0.25903213 0.12580052]\n",
            " [0.71680444 0.27773958 0.15023701]\n",
            " [0.21073315 0.48669562 0.5089807 ]\n",
            " [0.28277802 0.4742452  0.4759145 ]\n",
            " [0.7073095  0.2825547  0.15582573]]\n"
          ]
        }
      ],
      "source": [
        "print(model.predict(X_test))"
      ]
    },
    {
      "cell_type": "code",
      "execution_count": 51,
      "id": "e43e7656",
      "metadata": {
        "colab": {
          "base_uri": "https://localhost:8080/"
        },
        "id": "e43e7656",
        "outputId": "8b0e5e82-3f0e-46d1-8c30-d64ad218dd7b"
      },
      "outputs": [
        {
          "output_type": "stream",
          "name": "stdout",
          "text": [
            "1/1 [==============================] - 0s 23ms/step\n",
            "Prediction: tf.Tensor([1 0 0], shape=(3,), dtype=int32) Target: [1. 0. 0.]\n"
          ]
        }
      ],
      "source": [
        "prediction = tf.cast(tf.greater(model.predict(X_test), 0.5), tf.int32)\n",
        "\n",
        "print(\"Prediction:\", prediction[2], \"Target:\", y_test[2])"
      ]
    },
    {
      "cell_type": "code",
      "execution_count": 52,
      "id": "fa82d90a",
      "metadata": {
        "colab": {
          "base_uri": "https://localhost:8080/"
        },
        "id": "fa82d90a",
        "outputId": "12e841fa-4e7f-44e3-c823-7d08322ae5fd"
      },
      "outputs": [
        {
          "output_type": "stream",
          "name": "stdout",
          "text": [
            "dict_keys(['loss', 'Accuracy'])\n"
          ]
        }
      ],
      "source": [
        "print(history.history.keys())"
      ]
    },
    {
      "cell_type": "code",
      "execution_count": 53,
      "id": "6db35852",
      "metadata": {
        "colab": {
          "base_uri": "https://localhost:8080/"
        },
        "id": "6db35852",
        "outputId": "f6ff61b4-30ac-4c29-8f47-9dc5fe68c571"
      },
      "outputs": [
        {
          "output_type": "stream",
          "name": "stdout",
          "text": [
            "Epoch 1/50\n",
            "4/4 [==============================] - 0s 54ms/step - loss: 0.4909 - Accuracy: 0.7333 - val_loss: 0.5113 - val_Accuracy: 0.6667\n",
            "Epoch 2/50\n",
            "4/4 [==============================] - 0s 26ms/step - loss: 0.4772 - Accuracy: 0.8167 - val_loss: 0.4941 - val_Accuracy: 0.7333\n",
            "Epoch 3/50\n",
            "4/4 [==============================] - 0s 24ms/step - loss: 0.4643 - Accuracy: 0.8417 - val_loss: 0.4824 - val_Accuracy: 0.7333\n",
            "Epoch 4/50\n",
            "4/4 [==============================] - 0s 24ms/step - loss: 0.4520 - Accuracy: 0.8500 - val_loss: 0.4755 - val_Accuracy: 0.7333\n",
            "Epoch 5/50\n",
            "4/4 [==============================] - 0s 21ms/step - loss: 0.4415 - Accuracy: 0.8167 - val_loss: 0.4710 - val_Accuracy: 0.6667\n",
            "Epoch 6/50\n",
            "4/4 [==============================] - 0s 12ms/step - loss: 0.4316 - Accuracy: 0.8167 - val_loss: 0.4565 - val_Accuracy: 0.7333\n",
            "Epoch 7/50\n",
            "4/4 [==============================] - 0s 12ms/step - loss: 0.4217 - Accuracy: 0.8583 - val_loss: 0.4399 - val_Accuracy: 0.7667\n",
            "Epoch 8/50\n",
            "4/4 [==============================] - 0s 22ms/step - loss: 0.4123 - Accuracy: 0.8917 - val_loss: 0.4266 - val_Accuracy: 0.8000\n",
            "Epoch 9/50\n",
            "4/4 [==============================] - 0s 12ms/step - loss: 0.4031 - Accuracy: 0.9000 - val_loss: 0.4200 - val_Accuracy: 0.7667\n",
            "Epoch 10/50\n",
            "4/4 [==============================] - 0s 19ms/step - loss: 0.3953 - Accuracy: 0.9000 - val_loss: 0.4119 - val_Accuracy: 0.8000\n",
            "Epoch 11/50\n",
            "4/4 [==============================] - 0s 20ms/step - loss: 0.3854 - Accuracy: 0.9000 - val_loss: 0.4044 - val_Accuracy: 0.8000\n",
            "Epoch 12/50\n",
            "4/4 [==============================] - 0s 38ms/step - loss: 0.3763 - Accuracy: 0.9167 - val_loss: 0.3847 - val_Accuracy: 0.8667\n",
            "Epoch 13/50\n",
            "4/4 [==============================] - 0s 39ms/step - loss: 0.3667 - Accuracy: 0.9333 - val_loss: 0.3754 - val_Accuracy: 0.9333\n",
            "Epoch 14/50\n",
            "4/4 [==============================] - 0s 47ms/step - loss: 0.3594 - Accuracy: 0.9333 - val_loss: 0.3661 - val_Accuracy: 0.9667\n",
            "Epoch 15/50\n",
            "4/4 [==============================] - 0s 23ms/step - loss: 0.3515 - Accuracy: 0.9333 - val_loss: 0.3548 - val_Accuracy: 1.0000\n",
            "Epoch 16/50\n",
            "4/4 [==============================] - 0s 12ms/step - loss: 0.3452 - Accuracy: 0.9417 - val_loss: 0.3467 - val_Accuracy: 1.0000\n",
            "Epoch 17/50\n",
            "4/4 [==============================] - 0s 19ms/step - loss: 0.3377 - Accuracy: 0.9333 - val_loss: 0.3553 - val_Accuracy: 0.8667\n",
            "Epoch 18/50\n",
            "4/4 [==============================] - 0s 13ms/step - loss: 0.3306 - Accuracy: 0.9250 - val_loss: 0.3480 - val_Accuracy: 0.8667\n",
            "Epoch 19/50\n",
            "4/4 [==============================] - 0s 13ms/step - loss: 0.3226 - Accuracy: 0.9333 - val_loss: 0.3204 - val_Accuracy: 1.0000\n",
            "Epoch 20/50\n",
            "4/4 [==============================] - 0s 21ms/step - loss: 0.3176 - Accuracy: 0.9583 - val_loss: 0.3062 - val_Accuracy: 1.0000\n",
            "Epoch 21/50\n",
            "4/4 [==============================] - 0s 13ms/step - loss: 0.3080 - Accuracy: 0.9667 - val_loss: 0.3089 - val_Accuracy: 1.0000\n",
            "Epoch 22/50\n",
            "4/4 [==============================] - 0s 12ms/step - loss: 0.3018 - Accuracy: 0.9583 - val_loss: 0.3072 - val_Accuracy: 1.0000\n",
            "Epoch 23/50\n",
            "4/4 [==============================] - 0s 13ms/step - loss: 0.2956 - Accuracy: 0.9500 - val_loss: 0.3160 - val_Accuracy: 0.9333\n",
            "Epoch 24/50\n",
            "4/4 [==============================] - 0s 13ms/step - loss: 0.2901 - Accuracy: 0.9333 - val_loss: 0.2986 - val_Accuracy: 1.0000\n",
            "Epoch 25/50\n",
            "4/4 [==============================] - 0s 36ms/step - loss: 0.2806 - Accuracy: 0.9500 - val_loss: 0.2688 - val_Accuracy: 1.0000\n",
            "Epoch 26/50\n",
            "4/4 [==============================] - 0s 69ms/step - loss: 0.2751 - Accuracy: 0.9667 - val_loss: 0.2583 - val_Accuracy: 1.0000\n",
            "Epoch 27/50\n",
            "4/4 [==============================] - 0s 37ms/step - loss: 0.2688 - Accuracy: 0.9667 - val_loss: 0.2607 - val_Accuracy: 1.0000\n",
            "Epoch 28/50\n",
            "4/4 [==============================] - 0s 13ms/step - loss: 0.2615 - Accuracy: 0.9583 - val_loss: 0.2687 - val_Accuracy: 1.0000\n",
            "Epoch 29/50\n",
            "4/4 [==============================] - 0s 13ms/step - loss: 0.2571 - Accuracy: 0.9500 - val_loss: 0.2606 - val_Accuracy: 1.0000\n",
            "Epoch 30/50\n",
            "4/4 [==============================] - 0s 19ms/step - loss: 0.2489 - Accuracy: 0.9667 - val_loss: 0.2320 - val_Accuracy: 1.0000\n",
            "Epoch 31/50\n",
            "4/4 [==============================] - 0s 13ms/step - loss: 0.2450 - Accuracy: 0.9750 - val_loss: 0.2225 - val_Accuracy: 1.0000\n",
            "Epoch 32/50\n",
            "4/4 [==============================] - 0s 13ms/step - loss: 0.2391 - Accuracy: 0.9667 - val_loss: 0.2306 - val_Accuracy: 1.0000\n",
            "Epoch 33/50\n",
            "4/4 [==============================] - 0s 12ms/step - loss: 0.2318 - Accuracy: 0.9583 - val_loss: 0.2299 - val_Accuracy: 1.0000\n",
            "Epoch 34/50\n",
            "4/4 [==============================] - 0s 12ms/step - loss: 0.2267 - Accuracy: 0.9583 - val_loss: 0.2169 - val_Accuracy: 1.0000\n",
            "Epoch 35/50\n",
            "4/4 [==============================] - 0s 12ms/step - loss: 0.2210 - Accuracy: 0.9667 - val_loss: 0.2053 - val_Accuracy: 1.0000\n",
            "Epoch 36/50\n",
            "4/4 [==============================] - 0s 18ms/step - loss: 0.2172 - Accuracy: 0.9667 - val_loss: 0.2035 - val_Accuracy: 1.0000\n",
            "Epoch 37/50\n",
            "4/4 [==============================] - 0s 13ms/step - loss: 0.2115 - Accuracy: 0.9667 - val_loss: 0.1990 - val_Accuracy: 1.0000\n",
            "Epoch 38/50\n",
            "4/4 [==============================] - 0s 20ms/step - loss: 0.2099 - Accuracy: 0.9667 - val_loss: 0.1858 - val_Accuracy: 1.0000\n",
            "Epoch 39/50\n",
            "4/4 [==============================] - 0s 19ms/step - loss: 0.2014 - Accuracy: 0.9667 - val_loss: 0.1994 - val_Accuracy: 1.0000\n",
            "Epoch 40/50\n",
            "4/4 [==============================] - 0s 22ms/step - loss: 0.2016 - Accuracy: 0.9667 - val_loss: 0.1838 - val_Accuracy: 1.0000\n",
            "Epoch 41/50\n",
            "4/4 [==============================] - 0s 12ms/step - loss: 0.1939 - Accuracy: 0.9583 - val_loss: 0.1879 - val_Accuracy: 1.0000\n",
            "Epoch 42/50\n",
            "4/4 [==============================] - 0s 12ms/step - loss: 0.1905 - Accuracy: 0.9667 - val_loss: 0.1685 - val_Accuracy: 1.0000\n",
            "Epoch 43/50\n",
            "4/4 [==============================] - 0s 15ms/step - loss: 0.1848 - Accuracy: 0.9667 - val_loss: 0.1637 - val_Accuracy: 1.0000\n",
            "Epoch 44/50\n",
            "4/4 [==============================] - 0s 13ms/step - loss: 0.1818 - Accuracy: 0.9667 - val_loss: 0.1673 - val_Accuracy: 1.0000\n",
            "Epoch 45/50\n",
            "4/4 [==============================] - 0s 14ms/step - loss: 0.1774 - Accuracy: 0.9667 - val_loss: 0.1560 - val_Accuracy: 1.0000\n",
            "Epoch 46/50\n",
            "4/4 [==============================] - 0s 13ms/step - loss: 0.1731 - Accuracy: 0.9667 - val_loss: 0.1487 - val_Accuracy: 1.0000\n",
            "Epoch 47/50\n",
            "4/4 [==============================] - 0s 19ms/step - loss: 0.1704 - Accuracy: 0.9667 - val_loss: 0.1456 - val_Accuracy: 1.0000\n",
            "Epoch 48/50\n",
            "4/4 [==============================] - 0s 13ms/step - loss: 0.1681 - Accuracy: 0.9667 - val_loss: 0.1439 - val_Accuracy: 1.0000\n",
            "Epoch 49/50\n",
            "4/4 [==============================] - 0s 12ms/step - loss: 0.1625 - Accuracy: 0.9667 - val_loss: 0.1506 - val_Accuracy: 1.0000\n",
            "Epoch 50/50\n",
            "4/4 [==============================] - 0s 13ms/step - loss: 0.1607 - Accuracy: 0.9667 - val_loss: 0.1420 - val_Accuracy: 1.0000\n"
          ]
        }
      ],
      "source": [
        "\n",
        "history = model.fit(X_train,y_train, epochs=50, validation_data=(X_test, y_test), batch_size=32)\n",
        "#first mechanism to improve model performance using validation set"
      ]
    },
    {
      "cell_type": "code",
      "execution_count": 54,
      "id": "a960559f",
      "metadata": {
        "colab": {
          "base_uri": "https://localhost:8080/"
        },
        "id": "a960559f",
        "outputId": "f1fb6b0c-c0d1-4093-934b-1fbf4db2096c"
      },
      "outputs": [
        {
          "output_type": "stream",
          "name": "stdout",
          "text": [
            "dict_keys(['loss', 'Accuracy', 'val_loss', 'val_Accuracy'])\n"
          ]
        }
      ],
      "source": [
        "print(history.history.keys())"
      ]
    },
    {
      "cell_type": "code",
      "execution_count": 55,
      "id": "eaf837c6",
      "metadata": {
        "colab": {
          "base_uri": "https://localhost:8080/"
        },
        "id": "eaf837c6",
        "outputId": "44cfedf7-ad86-4418-b7c8-c4f97d19a71c"
      },
      "outputs": [
        {
          "output_type": "stream",
          "name": "stdout",
          "text": [
            "4/4 [==============================] - 0s 5ms/step - loss: 0.1575 - Accuracy: 0.9667\n",
            "Training Accuracy: 96.67%\n",
            "\n",
            "1/1 [==============================] - 0s 32ms/step - loss: 0.1420 - Accuracy: 1.0000\n",
            "Testing Accuracy: 100.00%\n",
            "\n"
          ]
        }
      ],
      "source": [
        "scores = model.evaluate(X_train,y_train)\n",
        "print(\"Training Accuracy: %.2f%%\\n\" % (scores[1]*100))\n",
        "scores = model.evaluate(X_test,y_test)\n",
        "print(\"Testing Accuracy: %.2f%%\\n\" % (scores[1]*100))"
      ]
    },
    {
      "cell_type": "code",
      "source": [
        "import matplotlib.pyplot as plt\n",
        "def Train_Val_Plot(acc,val_acc,loss,val_loss):\n",
        "\n",
        "    fig, (ax1, ax2) = plt.subplots(1,2, figsize= (8,4))\n",
        "    fig.suptitle(\" MODEL'S METRICS VISUALIZATION \")\n",
        "\n",
        "    ax1.plot(range(1, len(acc) + 1), acc)\n",
        "    ax1.plot(range(1, len(val_acc) + 1), val_acc)\n",
        "    ax1.set_title('History of Accuracy')\n",
        "    ax1.set_xlabel('Epochs')\n",
        "    ax1.set_ylabel('Accuracy')\n",
        "    ax1.legend(['training', 'validation'])\n",
        "\n",
        "\n",
        "    ax2.plot(range(1, len(loss) + 1), loss)\n",
        "    ax2.plot(range(1, len(val_loss) + 1), val_loss)\n",
        "    ax2.set_title('History of Loss')\n",
        "    ax2.set_xlabel('Epochs')\n",
        "    ax2.set_ylabel('Loss')\n",
        "    ax2.legend(['training', 'validation'])\n",
        "    plt.show()\n",
        "\n",
        "\n",
        "Train_Val_Plot(history.history['Accuracy'],history.history['val_Accuracy'],\n",
        "               history.history['loss'],history.history['val_loss'])"
      ],
      "metadata": {
        "colab": {
          "base_uri": "https://localhost:8080/",
          "height": 428
        },
        "id": "OEQYfEuCg-Hr",
        "outputId": "6e5173ab-1d4a-42d3-85da-f1b5e34b7a1e"
      },
      "id": "OEQYfEuCg-Hr",
      "execution_count": 56,
      "outputs": [
        {
          "output_type": "display_data",
          "data": {
            "text/plain": [
              "<Figure size 800x400 with 2 Axes>"
            ],
            "image/png": "[encoded data removed]"
          },
          "metadata": {}
        }
      ]
    }
  ],
  "metadata": {
    "kernelspec": {
      "display_name": "Python 3 (ipykernel)",
      "language": "python",
      "name": "python3"
    },
    "language_info": {
      "codemirror_mode": {
        "name": "ipython",
        "version": 3
      },
      "file_extension": ".py",
      "mimetype": "text/x-python",
      "name": "python",
      "nbconvert_exporter": "python",
      "pygments_lexer": "ipython3",
      "version": "3.9.12"
    },
    "colab": {
      "provenance": []
    }
  },
  "nbformat": 4,
  "nbformat_minor": 5
}